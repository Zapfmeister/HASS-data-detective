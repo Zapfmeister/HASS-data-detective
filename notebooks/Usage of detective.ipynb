{
 "cells": [
  {
   "cell_type": "markdown",
   "metadata": {},
   "source": [
    "Notebook showing usage of the data detective."
   ]
  },
  {
   "cell_type": "code",
   "execution_count": 11,
   "metadata": {},
   "outputs": [],
   "source": [
    "# To import detective from relative folder\n",
    "import detective.core as detective\n",
    "import detective.functions as functions\n",
    "import pandas as pd"
   ]
  },
  {
   "cell_type": "markdown",
   "metadata": {},
   "source": [
    "To load the local db we supply the path to the sqlite `.db` file "
   ]
  },
  {
   "cell_type": "code",
   "execution_count": 12,
   "metadata": {},
   "outputs": [
    {
     "name": "stdout",
     "output_type": "stream",
     "text": "Successfully connected to database sqlite:///home-assistant_v2.db\nThere are 10 entities with data\n"
    }
   ],
   "source": [
    "db = detective.HassDatabase('sqlite:///home-assistant_v2.db') # To init without fetching entities fetch_entities=False"
   ]
  },
  {
   "cell_type": "code",
   "execution_count": 13,
   "metadata": {},
   "outputs": [
    {
     "data": {
      "text/plain": "['automation.new_file_alert',\n 'camera.demo_camera',\n 'camera.local_file',\n 'group.all_automations',\n 'history_graph.pms5003',\n 'sensor.merton',\n 'sensor.particles_01um',\n 'sensor.particles_025um',\n 'sensor.particles_10um',\n 'sensor.serial_sensor']"
     },
     "execution_count": 13,
     "metadata": {},
     "output_type": "execute_result"
    }
   ],
   "source": [
    "db.entities"
   ]
  },
  {
   "cell_type": "markdown",
   "metadata": {},
   "source": [
    "Use `fetch_all_sensor_data()` to fetch all your sensor data into a pandas dataframe in memory. Note that by default the number of states returned is limited but this can optionally be over-ridden as shown below. "
   ]
  },
  {
   "cell_type": "code",
   "execution_count": 14,
   "metadata": {},
   "outputs": [
    {
     "name": "stdout",
     "output_type": "stream",
     "text": "The returned Pandas dataframe has 1545 rows of data.\n"
    }
   ],
   "source": [
    "df = db.fetch_all_sensor_data(limit=1e9)"
   ]
  },
  {
   "cell_type": "markdown",
   "execution_count": null,
   "metadata": {},
   "outputs": [],
   "source": [
    "Take a minute to read about the differences between [wide-form and long-form data](https://altair-viz.github.io/user_guide/data.html#long-form-vs-wide-form-data). The Pandas dataframe we have is in long form."
   ]
  },
  {
   "cell_type": "code",
   "execution_count": 15,
   "metadata": {},
   "outputs": [
    {
     "data": {
      "text/html": "<div>\n<style scoped>\n    .dataframe tbody tr th:only-of-type {\n        vertical-align: middle;\n    }\n\n    .dataframe tbody tr th {\n        vertical-align: top;\n    }\n\n    .dataframe thead th {\n        text-align: right;\n    }\n</style>\n<table border=\"1\" class=\"dataframe\">\n  <thead>\n    <tr style=\"text-align: right;\">\n      <th></th>\n      <th>domain</th>\n      <th>entity_id</th>\n      <th>state</th>\n      <th>last_changed</th>\n      <th>attributes</th>\n    </tr>\n  </thead>\n  <tbody>\n    <tr>\n      <th>0</th>\n      <td>sensor</td>\n      <td>sensor.particles_10um</td>\n      <td>154</td>\n      <td>2018-12-04 09:47:14.801458</td>\n      <td>{\"unit_of_measurement\": \"particles\", \"friendly...</td>\n    </tr>\n    <tr>\n      <th>1</th>\n      <td>sensor</td>\n      <td>sensor.particles_025um</td>\n      <td>143</td>\n      <td>2018-12-04 09:47:14.801221</td>\n      <td>{\"unit_of_measurement\": \"particles\", \"friendly...</td>\n    </tr>\n    <tr>\n      <th>2</th>\n      <td>sensor</td>\n      <td>sensor.particles_01um</td>\n      <td>107</td>\n      <td>2018-12-04 09:47:14.800889</td>\n      <td>{\"unit_of_measurement\": \"particles\", \"friendly...</td>\n    </tr>\n    <tr>\n      <th>3</th>\n      <td>sensor</td>\n      <td>sensor.serial_sensor</td>\n      <td>{ \"a\": 107, \"b\": 143, \"c\": 154 }</td>\n      <td>2018-12-04 09:47:14.799862</td>\n      <td>{\"a\": 107, \"b\": 143, \"c\": 154, \"friendly_name\"...</td>\n    </tr>\n    <tr>\n      <th>4</th>\n      <td>sensor</td>\n      <td>sensor.particles_10um</td>\n      <td>155</td>\n      <td>2018-12-04 09:47:13.888892</td>\n      <td>{\"unit_of_measurement\": \"particles\", \"friendly...</td>\n    </tr>\n  </tbody>\n</table>\n</div>",
      "text/plain": "   domain               entity_id                             state  \\\n0  sensor   sensor.particles_10um                               154   \n1  sensor  sensor.particles_025um                               143   \n2  sensor   sensor.particles_01um                               107   \n3  sensor    sensor.serial_sensor  { \"a\": 107, \"b\": 143, \"c\": 154 }   \n4  sensor   sensor.particles_10um                               155   \n\n                 last_changed  \\\n0  2018-12-04 09:47:14.801458   \n1  2018-12-04 09:47:14.801221   \n2  2018-12-04 09:47:14.800889   \n3  2018-12-04 09:47:14.799862   \n4  2018-12-04 09:47:13.888892   \n\n                                          attributes  \n0  {\"unit_of_measurement\": \"particles\", \"friendly...  \n1  {\"unit_of_measurement\": \"particles\", \"friendly...  \n2  {\"unit_of_measurement\": \"particles\", \"friendly...  \n3  {\"a\": 107, \"b\": 143, \"c\": 154, \"friendly_name\"...  \n4  {\"unit_of_measurement\": \"particles\", \"friendly...  "
     },
     "execution_count": 15,
     "metadata": {},
     "output_type": "execute_result"
    }
   ],
   "source": [
    "df.head()"
   ]
  },
  {
   "cell_type": "markdown",
   "execution_count": 9,
   "metadata": {},
   "outputs": [
    {
     "ename": "SyntaxError",
     "evalue": "invalid syntax (<ipython-input-9-c2beb6dc8103>, line 1)",
     "output_type": "error",
     "traceback": [
      "\u001b[0;36m  File \u001b[0;32m\"<ipython-input-9-c2beb6dc8103>\"\u001b[0;36m, line \u001b[0;32m1\u001b[0m\n\u001b[0;31m    It is necessary to do some formatting of the data before we can plot it, and detective provides several functions to assist.\u001b[0m\n\u001b[0m                     ^\u001b[0m\n\u001b[0;31mSyntaxError\u001b[0m\u001b[0;31m:\u001b[0m invalid syntax\n"
     ]
    }
   ],
   "source": [
    "It is necessary to do some formatting of the data before we can plot it, and detective provides several functions to assist. Additionally it will generate some features for you."
   ]
  },
  {
   "cell_type": "code",
   "execution_count": 16,
   "metadata": {},
   "outputs": [],
   "source": [
    "df = functions.generate_features(df)\n",
    "df = functions.format_dataframe(df)"
   ]
  },
  {
   "cell_type": "code",
   "execution_count": 17,
   "metadata": {},
   "outputs": [
    {
     "data": {
      "text/html": "<div>\n<style scoped>\n    .dataframe tbody tr th:only-of-type {\n        vertical-align: middle;\n    }\n\n    .dataframe tbody tr th {\n        vertical-align: top;\n    }\n\n    .dataframe thead th {\n        text-align: right;\n    }\n</style>\n<table border=\"1\" class=\"dataframe\">\n  <thead>\n    <tr style=\"text-align: right;\">\n      <th></th>\n      <th>domain</th>\n      <th>entity_id</th>\n      <th>state</th>\n      <th>last_changed</th>\n      <th>attributes</th>\n      <th>device_class</th>\n      <th>unit_of_measurement</th>\n      <th>friendly_name</th>\n    </tr>\n  </thead>\n  <tbody>\n    <tr>\n      <th>0</th>\n      <td>sensor</td>\n      <td>sensor.particles_10um</td>\n      <td>154.0</td>\n      <td>2018-12-04 09:47:14.801458</td>\n      <td>{'unit_of_measurement': 'particles', 'friendly...</td>\n      <td>unknown</td>\n      <td>particles</td>\n      <td>particles_10um</td>\n    </tr>\n    <tr>\n      <th>1</th>\n      <td>sensor</td>\n      <td>sensor.particles_025um</td>\n      <td>143.0</td>\n      <td>2018-12-04 09:47:14.801221</td>\n      <td>{'unit_of_measurement': 'particles', 'friendly...</td>\n      <td>unknown</td>\n      <td>particles</td>\n      <td>particles_025um</td>\n    </tr>\n    <tr>\n      <th>2</th>\n      <td>sensor</td>\n      <td>sensor.particles_01um</td>\n      <td>107.0</td>\n      <td>2018-12-04 09:47:14.800889</td>\n      <td>{'unit_of_measurement': 'particles', 'friendly...</td>\n      <td>unknown</td>\n      <td>particles</td>\n      <td>particles_01um</td>\n    </tr>\n    <tr>\n      <th>4</th>\n      <td>sensor</td>\n      <td>sensor.particles_10um</td>\n      <td>155.0</td>\n      <td>2018-12-04 09:47:13.888892</td>\n      <td>{'unit_of_measurement': 'particles', 'friendly...</td>\n      <td>unknown</td>\n      <td>particles</td>\n      <td>particles_10um</td>\n    </tr>\n    <tr>\n      <th>6</th>\n      <td>sensor</td>\n      <td>sensor.particles_10um</td>\n      <td>158.0</td>\n      <td>2018-12-04 09:47:12.978155</td>\n      <td>{'unit_of_measurement': 'particles', 'friendly...</td>\n      <td>unknown</td>\n      <td>particles</td>\n      <td>particles_10um</td>\n    </tr>\n  </tbody>\n</table>\n</div>",
      "text/plain": "   domain               entity_id  state               last_changed  \\\n0  sensor   sensor.particles_10um  154.0 2018-12-04 09:47:14.801458   \n1  sensor  sensor.particles_025um  143.0 2018-12-04 09:47:14.801221   \n2  sensor   sensor.particles_01um  107.0 2018-12-04 09:47:14.800889   \n4  sensor   sensor.particles_10um  155.0 2018-12-04 09:47:13.888892   \n6  sensor   sensor.particles_10um  158.0 2018-12-04 09:47:12.978155   \n\n                                          attributes device_class  \\\n0  {'unit_of_measurement': 'particles', 'friendly...      unknown   \n1  {'unit_of_measurement': 'particles', 'friendly...      unknown   \n2  {'unit_of_measurement': 'particles', 'friendly...      unknown   \n4  {'unit_of_measurement': 'particles', 'friendly...      unknown   \n6  {'unit_of_measurement': 'particles', 'friendly...      unknown   \n\n  unit_of_measurement    friendly_name  \n0           particles   particles_10um  \n1           particles  particles_025um  \n2           particles   particles_01um  \n4           particles   particles_10um  \n6           particles   particles_10um  "
     },
     "execution_count": 17,
     "metadata": {},
     "output_type": "execute_result"
    }
   ],
   "source": [
    "df.head()"
   ]
  },
  {
   "cell_type": "markdown",
   "execution_count": 8,
   "metadata": {},
   "outputs": [
    {
     "ename": "SyntaxError",
     "evalue": "invalid syntax (<ipython-input-8-b2cba0884c65>, line 1)",
     "output_type": "error",
     "traceback": [
      "\u001b[0;36m  File \u001b[0;32m\"<ipython-input-8-b2cba0884c65>\"\u001b[0;36m, line \u001b[0;32m1\u001b[0m\n\u001b[0;31m    Notice the new feature columns added. It is straightforward to create your own features.\u001b[0m\n\u001b[0m             ^\u001b[0m\n\u001b[0;31mSyntaxError\u001b[0m\u001b[0;31m:\u001b[0m invalid syntax\n"
     ]
    }
   ],
   "source": [
    "Notice the new feature columns added. It is straightforward to create your own features, for example to add a `day_of_week` column"
   ]
  },
  {
   "cell_type": "code",
   "execution_count": 18,
   "metadata": {},
   "outputs": [],
   "source": [
    "df['day_of_week'] = df['last_changed'].apply(lambda x : x.dayofweek)"
   ]
  },
  {
   "cell_type": "code",
   "execution_count": 19,
   "metadata": {},
   "outputs": [
    {
     "data": {
      "text/html": "<div>\n<style scoped>\n    .dataframe tbody tr th:only-of-type {\n        vertical-align: middle;\n    }\n\n    .dataframe tbody tr th {\n        vertical-align: top;\n    }\n\n    .dataframe thead th {\n        text-align: right;\n    }\n</style>\n<table border=\"1\" class=\"dataframe\">\n  <thead>\n    <tr style=\"text-align: right;\">\n      <th></th>\n      <th>domain</th>\n      <th>entity_id</th>\n      <th>state</th>\n      <th>last_changed</th>\n      <th>attributes</th>\n      <th>device_class</th>\n      <th>unit_of_measurement</th>\n      <th>friendly_name</th>\n      <th>day_of_week</th>\n    </tr>\n  </thead>\n  <tbody>\n    <tr>\n      <th>0</th>\n      <td>sensor</td>\n      <td>sensor.particles_10um</td>\n      <td>154.0</td>\n      <td>2018-12-04 09:47:14.801458</td>\n      <td>{'unit_of_measurement': 'particles', 'friendly...</td>\n      <td>unknown</td>\n      <td>particles</td>\n      <td>particles_10um</td>\n      <td>1</td>\n    </tr>\n    <tr>\n      <th>1</th>\n      <td>sensor</td>\n      <td>sensor.particles_025um</td>\n      <td>143.0</td>\n      <td>2018-12-04 09:47:14.801221</td>\n      <td>{'unit_of_measurement': 'particles', 'friendly...</td>\n      <td>unknown</td>\n      <td>particles</td>\n      <td>particles_025um</td>\n      <td>1</td>\n    </tr>\n    <tr>\n      <th>2</th>\n      <td>sensor</td>\n      <td>sensor.particles_01um</td>\n      <td>107.0</td>\n      <td>2018-12-04 09:47:14.800889</td>\n      <td>{'unit_of_measurement': 'particles', 'friendly...</td>\n      <td>unknown</td>\n      <td>particles</td>\n      <td>particles_01um</td>\n      <td>1</td>\n    </tr>\n    <tr>\n      <th>4</th>\n      <td>sensor</td>\n      <td>sensor.particles_10um</td>\n      <td>155.0</td>\n      <td>2018-12-04 09:47:13.888892</td>\n      <td>{'unit_of_measurement': 'particles', 'friendly...</td>\n      <td>unknown</td>\n      <td>particles</td>\n      <td>particles_10um</td>\n      <td>1</td>\n    </tr>\n    <tr>\n      <th>6</th>\n      <td>sensor</td>\n      <td>sensor.particles_10um</td>\n      <td>158.0</td>\n      <td>2018-12-04 09:47:12.978155</td>\n      <td>{'unit_of_measurement': 'particles', 'friendly...</td>\n      <td>unknown</td>\n      <td>particles</td>\n      <td>particles_10um</td>\n      <td>1</td>\n    </tr>\n  </tbody>\n</table>\n</div>",
      "text/plain": "   domain               entity_id  state               last_changed  \\\n0  sensor   sensor.particles_10um  154.0 2018-12-04 09:47:14.801458   \n1  sensor  sensor.particles_025um  143.0 2018-12-04 09:47:14.801221   \n2  sensor   sensor.particles_01um  107.0 2018-12-04 09:47:14.800889   \n4  sensor   sensor.particles_10um  155.0 2018-12-04 09:47:13.888892   \n6  sensor   sensor.particles_10um  158.0 2018-12-04 09:47:12.978155   \n\n                                          attributes device_class  \\\n0  {'unit_of_measurement': 'particles', 'friendly...      unknown   \n1  {'unit_of_measurement': 'particles', 'friendly...      unknown   \n2  {'unit_of_measurement': 'particles', 'friendly...      unknown   \n4  {'unit_of_measurement': 'particles', 'friendly...      unknown   \n6  {'unit_of_measurement': 'particles', 'friendly...      unknown   \n\n  unit_of_measurement    friendly_name  day_of_week  \n0           particles   particles_10um            1  \n1           particles  particles_025um            1  \n2           particles   particles_01um            1  \n4           particles   particles_10um            1  \n6           particles   particles_10um            1  "
     },
     "execution_count": 19,
     "metadata": {},
     "output_type": "execute_result"
    }
   ],
   "source": [
    "df.head()"
   ]
  },
  {
   "cell_type": "code",
   "execution_count": null,
   "metadata": {},
   "outputs": [],
   "source": []
  }
 ],
 "metadata": {
  "kernelspec": {
   "display_name": "Python 3",
   "language": "python",
   "name": "python3"
  },
  "language_info": {
   "codemirror_mode": {
    "name": "ipython",
    "version": 3
   },
   "file_extension": ".py",
   "mimetype": "text/x-python",
   "name": "python",
   "nbconvert_exporter": "python",
   "pygments_lexer": "ipython3",
   "version": "3.7.6"
  }
 },
 "nbformat": 4,
 "nbformat_minor": 4
}